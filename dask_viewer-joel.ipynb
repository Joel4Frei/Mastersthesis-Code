{
 "cells": [
  {
   "cell_type": "code",
   "execution_count": 7,
   "metadata": {},
   "outputs": [],
   "source": [
    "from skimage.io import imread\n",
    "from skimage.io.collection import alphanumeric_key\n",
    "from dask import delayed\n",
    "import dask.array as da\n",
    "from glob import glob\n",
    "import os\n",
    "import numpy as np\n",
    "import napari\n",
    "from dask_image.imread import imread\n",
    "from magicgui import magicgui\n",
    "import sys\n",
    "import matplotlib.pyplot as plt\n",
    "\n",
    "#project_path = 'Z:\\\\PertzLab\\\\kvanunen\\\\data\\\\exp_kvu_134\\\\'\n",
    "#project_path = 'Z:\\\\PertzLab\\\\rberthoz\\\\exp_035\\\\'\n",
    "#project_path = 'Z:\\\\lhinder\\\\data\\\\rtm_mm_data\\\\exp_288\\\\'\n",
    "#project_path = 'Z:\\\\PertzLab\\\\Ben\\\\exp_5\\\\'\n",
    "project_path = 'Z:\\\\jfrei\\\\data\\\\experiments\\\\exp_51\\\\'\n"
   ]
  },
  {
   "cell_type": "code",
   "execution_count": 8,
   "metadata": {},
   "outputs": [],
   "source": [
    "def tiff_to_lazy_da(path,folder,fov):\n",
    "    file_name_pattern = str(fov).zfill(2)+\"_*.tiff\"\n",
    "    filenames = sorted(glob(path + os.path.join(str(folder),file_name_pattern)), key=alphanumeric_key)\n",
    "    print(file_name_pattern)\n",
    "    # read the first file to get the shape and dtype\n",
    "    # ASSUMES THAT ALL FILES SHARE THE SAME SHAPE/TYPE\n",
    "\n",
    "    sample = imread(filenames[0])\n",
    "    \n",
    "    lazy_imread = delayed(imread)  # lazy reader\n",
    "    lazy_arrays = [lazy_imread(fn) for fn in filenames]\n",
    "    dask_arrays = [\n",
    "        da.from_delayed(delayed_reader, shape=sample.shape, dtype=sample.dtype)\n",
    "        for delayed_reader in lazy_arrays\n",
    "    ]\n",
    "    # Stack into one large dask.array\n",
    "    stack = da.stack(dask_arrays, axis=0)\n",
    "    stack = np.squeeze(stack)\n",
    "    return stack"
   ]
  },
  {
   "cell_type": "code",
   "execution_count": 9,
   "metadata": {},
   "outputs": [
    {
     "name": "stdout",
     "output_type": "stream",
     "text": [
      "00_*.tiff\n",
      "00_*.tiff\n",
      "00_*.tiff\n",
      "00_*.tiff\n"
     ]
    },
    {
     "data": {
      "text/plain": [
       "<napari._qt.widgets.qt_viewer_dock_widget.QtViewerDockWidget at 0x1e188d23ca0>"
      ]
     },
     "execution_count": 9,
     "metadata": {},
     "output_type": "execute_result"
    },
    {
     "name": "stdout",
     "output_type": "stream",
     "text": [
      "09_*.tiff\n",
      "09_*.tiff\n",
      "09_*.tiff\n",
      "09_*.tiff\n",
      "09_*.tiff\n",
      "09_*.tiff\n",
      "09_*.tiff\n",
      "09_*.tiff\n",
      "08_*.tiff\n",
      "08_*.tiff\n",
      "08_*.tiff\n",
      "08_*.tiff\n",
      "11_*.tiff\n",
      "11_*.tiff\n",
      "11_*.tiff\n",
      "11_*.tiff\n",
      "00_*.tiff\n",
      "00_*.tiff\n",
      "00_*.tiff\n",
      "00_*.tiff\n",
      "26_*.tiff\n",
      "26_*.tiff\n",
      "26_*.tiff\n",
      "26_*.tiff\n",
      "34_*.tiff\n",
      "34_*.tiff\n",
      "34_*.tiff\n",
      "34_*.tiff\n",
      "34_*.tiff\n",
      "34_*.tiff\n",
      "34_*.tiff\n",
      "34_*.tiff\n"
     ]
    }
   ],
   "source": [
    "nb_fovs = 48\n",
    "\n",
    "#create the enum for the FOV selector widget\n",
    "fov_choices = []\n",
    "for fov in range(nb_fovs):\n",
    "    fov_choices.append((\"FOV \"+str(fov), fov))\n",
    "\n",
    "if not os.path.isdir(project_path):\n",
    "    sys.exit(\"Cannot find project folder. Are you connected to the server?\")\n",
    "\n",
    "@magicgui(fov={\"choices\": fov_choices})\n",
    "def load_fov(fov = 0):\n",
    "    stack_raw = tiff_to_lazy_da(project_path, \"raw\", fov)\n",
    "    stack_stim = tiff_to_lazy_da(project_path, \"stim\", fov)\n",
    "    stack_mask = tiff_to_lazy_da(project_path, \"mask\", fov)\n",
    "    #stack_mask_beads = tiff_to_lazy_da(project_path, 'labels_beads', fov)\n",
    "    stack_light_mask = tiff_to_lazy_da(project_path, \"light_mask\", fov).astype('int')\n",
    "    \n",
    "    \n",
    "    stack_raw_c0_layer.data = stack_raw[:,0,:,:]\n",
    "    stack_raw_c1_layer.data = stack_raw[:,1,:,:]\n",
    "    stack_stim_layer.data = stack_stim\n",
    "    stack_mask_layer.data = stack_mask\n",
    "    stack_light_mask_layer.data = stack_light_mask\n",
    "    #stack_mask_beads_layer.data = stack_mask_beads.astype('int')\n",
    "    \n",
    "fov = 0\n",
    "#init the viewer with FOV 0\n",
    "stack_raw = tiff_to_lazy_da(project_path, \"raw\", fov)\n",
    "stack_mask = tiff_to_lazy_da(project_path, \"mask\", fov)\n",
    "stack_stim = np.squeeze(tiff_to_lazy_da(project_path, \"stim\", fov))\n",
    "stack_light_mask = tiff_to_lazy_da(project_path, \"light_mask\", fov).astype('int')\n",
    "#stack_mask_beads = tiff_to_lazy_da(project_path, 'labels_beads', fov)\n",
    "\n",
    "\n",
    "viewer = napari.Viewer()\n",
    "stack_raw_c0_layer = viewer.add_image(stack_raw[:,0,:,:], rgb=False,contrast_limits = (0,2000))\n",
    "stack_raw_c1_layer = viewer.add_image(stack_raw[:,1,:,:], rgb=False,contrast_limits = (0,2000))\n",
    "####layer = viewer.add_image(stack_raw, rgb=False,contrast_limits = (0,20000))\n",
    "####stack_raw_layer = viewer.add_image(stack_raw, rgb=False,contrast_limits = (0,20000))\n",
    "stack_stim_layer = viewer.add_image(stack_stim, rgb=False,contrast_limits = (0,2000))\n",
    "stack_mask_layer = viewer.add_labels(stack_mask, opacity = 0.35)\n",
    "stack_light_mask_layer = viewer.add_labels(stack_light_mask, opacity = 0.35)\n",
    "#stack_mask_beads_layer = viewer.add_labels(stack_mask_beads, opacity = 0.35)\n",
    "\n",
    "\n",
    "\n",
    "\n",
    "viewer.window.add_dock_widget(load_fov)\n",
    "\n",
    "\n",
    "\n"
   ]
  },
  {
   "cell_type": "code",
   "execution_count": 4,
   "metadata": {},
   "outputs": [
    {
     "name": "stdout",
     "output_type": "stream",
     "text": [
      "05_*.tiff\n",
      "05_*.tiff\n",
      "05_*.tiff\n",
      "05_*.tiff\n"
     ]
    }
   ],
   "source": [
    "position_list = []"
   ]
  },
  {
   "cell_type": "code",
   "execution_count": null,
   "metadata": {},
   "outputs": [],
   "source": [
    "from skimage.draw import polygon\n",
    "\n",
    "viewer = napari.Viewer()\n",
    "stack_raw_c0_layer = viewer.add_image(stack_raw[:,0,:,:], rgb=False,contrast_limits = (0,2000))\n",
    "shapes_layer = viewer.add_shapes([], shape_type='polygon', edge_width=5,\n",
    "                          edge_color='coral', face_color='royalblue')\n",
    "def polygons_to_array(shapes_layer):\n",
    "    '''Takes as input a napari shapes layer with polygons, and returns a binary array where polygon areas are 1 and background is 0'''\n",
    "    img = np.zeros((1024, 1024), dtype=np.uint8)\n",
    "    shapes = shapes_layer.data\n",
    "    for shape in shapes:\n",
    "        r = shape[:,0]\n",
    "        c = shape[:,1]\n",
    "        rr, cc = polygon(r, c)\n",
    "        img[rr, cc] = 1\n",
    "    return img\n",
    "\n",
    "img = polygons_to_array(shapes_layer)\n",
    "plt.imshow(img)\n",
    "\n"
   ]
  },
  {
   "cell_type": "code",
   "execution_count": 36,
   "metadata": {},
   "outputs": [
    {
     "data": {
      "text/plain": [
       "array([310.        , 229.        , 209.        , 221.        ,\n",
       "       258.        , 300.        , 306.        , 268.        ,\n",
       "       265.        , 298.        , 307.        , 307.        ,\n",
       "       349.        , 399.67027588, 330.        , 330.        ])"
      ]
     },
     "execution_count": 36,
     "metadata": {},
     "output_type": "execute_result"
    }
   ],
   "source": [
    "shapes_layer."
   ]
  },
  {
   "cell_type": "code",
   "execution_count": null,
   "metadata": {},
   "outputs": [],
   "source": [
    "import mahotas.polygon\n",
    "\n",
    "def run(n, reverse=0):\n",
    "    canvas = np.zeros((n, n), dtype=int)\n",
    "    lim = n-2\n",
    "    print '\\n%d x %d, lim=%d reverse=%d' % (n, n, lim, reverse)\n",
    "    pts = [(1, 1), (1, lim), (lim, lim), (lim, 1), (1, 1)]\n",
    "    if reverse:\n",
    "        pts.reverse()\n",
    "    mahotas.polygon.fill_polygon(pts, canvas)\n",
    "    return canvas\n",
    "\n",
    "for rev in (0, 1):\n",
    "    for n in range(3, 14):\n",
    "        print run(n, rev)"
   ]
  },
  {
   "cell_type": "code",
   "execution_count": 17,
   "metadata": {},
   "outputs": [
    {
     "name": "stdout",
     "output_type": "stream",
     "text": [
      "00_*.tiff\n"
     ]
    },
    {
     "data": {
      "text/plain": [
       "<napari._qt.widgets.qt_viewer_dock_widget.QtViewerDockWidget at 0x1330b3bf940>"
      ]
     },
     "execution_count": 17,
     "metadata": {},
     "output_type": "execute_result"
    }
   ],
   "source": [
    "nb_fovs = 19\n",
    "\n",
    "#create the enum for the FOV selector widget\n",
    "fov_choices = []\n",
    "for fov in range(nb_fovs):\n",
    "    fov_choices.append((\"FOV \"+str(fov), fov))\n",
    "\n",
    "if not os.path.isdir(project_path):\n",
    "    sys.exit(\"Cannot find project folder. Are you connected to the server?\")\n",
    "\n",
    "@magicgui(fov={\"choices\": fov_choices})\n",
    "def load_fov(fov = 0):\n",
    "    stack_raw = tiff_to_lazy_da(project_path, \"raw\", fov)\n",
    "    stack_raw_0_layer.data = stack_raw[:,0,:,:]\n",
    "    stack_raw_1_layer.data = stack_raw[:,1,:,:]\n",
    "    \n",
    "    #stack_mask = tiff_to_lazy_da(project_path, \"mask\", fov)\n",
    "    #stack_mask_layer.data = stack_mask\n",
    "\n",
    "fov = 0\n",
    "#init the viewer with FOV 0\n",
    "stack_raw = tiff_to_lazy_da(project_path, \"raw\", fov)\n",
    "#stack_mask = tiff_to_lazy_da(project_path, \"mask\", fov)\n",
    "\n",
    "\n",
    "viewer = napari.Viewer()\n",
    "stack_raw_0_layer = viewer.add_image(stack_raw[:,0,:,:], rgb=False,contrast_limits = (0,500))\n",
    "stack_raw_1_layer = viewer.add_image(stack_raw[:,1,:,:], rgb=False,contrast_limits = (0,1000))\n",
    "#stack_mask_layer = viewer.add_labels(stack_mask, opacity = 0.35_1)\n",
    "\n",
    "viewer.window.add_dock_widget(load_fov)"
   ]
  },
  {
   "cell_type": "code",
   "execution_count": 124,
   "metadata": {},
   "outputs": [
    {
     "name": "stdout",
     "output_type": "stream",
     "text": [
      "   Olympics    Event Medal\n",
      "0      2008    100 m  Gold\n",
      "1      2008    200 m  Gold\n",
      "2      2012    100 m  Gold\n",
      "3      2012    200 m  Gold\n",
      "4      2012  4x100 m  Gold\n",
      "5      2016    200 m  Gold\n",
      "6      2016    200 m  Gold\n",
      "7      2016  4x100 m  Gold\n",
      "200 m      4\n",
      "4x100 m    2\n",
      "100 m      2\n",
      "Name: Event, dtype: int64\n"
     ]
    }
   ],
   "source": [
    "import pandas as pd\n",
    "# create a dataframe\n",
    "df = pd.DataFrame({\n",
    "    'Olympics': [2008, 2008, 2012, 2012, 2012, 2016, 2016, 2016],\n",
    "    'Event': ['100 m', '200 m', '100 m', '200 m', '4x100 m', '200 m', '200 m', '4x100 m'],\n",
    "    'Medal': ['Gold', 'Gold', 'Gold', 'Gold', 'Gold', 'Gold', 'Gold', 'Gold']\n",
    "})\n",
    "# display the datafram\n",
    "print(df)\n",
    "print(df['Event'].value_counts())"
   ]
  },
  {
   "cell_type": "code",
   "execution_count": 130,
   "metadata": {},
   "outputs": [
    {
     "data": {
      "text/plain": [
       "'200 m'"
      ]
     },
     "execution_count": 130,
     "metadata": {},
     "output_type": "execute_result"
    }
   ],
   "source": []
  },
  {
   "cell_type": "code",
   "execution_count": 121,
   "metadata": {},
   "outputs": [
    {
     "ename": "TypeError",
     "evalue": "cannot unpack non-iterable int object",
     "output_type": "error",
     "traceback": [
      "\u001b[1;31m---------------------------------------------------------------------------\u001b[0m",
      "\u001b[1;31mTypeError\u001b[0m                                 Traceback (most recent call last)",
      "\u001b[1;32m<ipython-input-121-90b008b50f27>\u001b[0m in \u001b[0;36m<module>\u001b[1;34m\u001b[0m\n\u001b[1;32m----> 1\u001b[1;33m \u001b[1;32mfor\u001b[0m \u001b[0mi\u001b[0m\u001b[1;33m,\u001b[0m\u001b[0ms\u001b[0m \u001b[1;32min\u001b[0m \u001b[0mseries\u001b[0m\u001b[1;33m:\u001b[0m\u001b[1;33m\u001b[0m\u001b[1;33m\u001b[0m\u001b[0m\n\u001b[0m\u001b[0;32m      2\u001b[0m     \u001b[0mprint\u001b[0m\u001b[1;33m(\u001b[0m\u001b[0ms\u001b[0m\u001b[1;33m)\u001b[0m\u001b[1;33m\u001b[0m\u001b[1;33m\u001b[0m\u001b[0m\n",
      "\u001b[1;31mTypeError\u001b[0m: cannot unpack non-iterable int object"
     ]
    }
   ],
   "source": [
    "for s in series:\n",
    "    print(s)"
   ]
  },
  {
   "cell_type": "code",
   "execution_count": 6,
   "metadata": {},
   "outputs": [
    {
     "ename": "IndexError",
     "evalue": "list index out of range",
     "output_type": "error",
     "traceback": [
      "\u001b[1;31m---------------------------------------------------------------------------\u001b[0m",
      "\u001b[1;31mIndexError\u001b[0m                                Traceback (most recent call last)",
      "\u001b[1;32m<ipython-input-6-0fcf0d7e2857>\u001b[0m in \u001b[0;36m<module>\u001b[1;34m\u001b[0m\n\u001b[0;32m      4\u001b[0m \u001b[0mfilenames\u001b[0m \u001b[1;33m=\u001b[0m \u001b[0msorted\u001b[0m\u001b[1;33m(\u001b[0m\u001b[0mglob\u001b[0m\u001b[1;33m(\u001b[0m\u001b[0mproject_path\u001b[0m \u001b[1;33m+\u001b[0m \u001b[0mos\u001b[0m\u001b[1;33m.\u001b[0m\u001b[0mpath\u001b[0m\u001b[1;33m.\u001b[0m\u001b[0mjoin\u001b[0m\u001b[1;33m(\u001b[0m\u001b[0mstr\u001b[0m\u001b[1;33m(\u001b[0m\u001b[0mfolder\u001b[0m\u001b[1;33m)\u001b[0m\u001b[1;33m,\u001b[0m\u001b[0mfile_name_pattern\u001b[0m\u001b[1;33m)\u001b[0m\u001b[1;33m)\u001b[0m\u001b[1;33m,\u001b[0m \u001b[0mkey\u001b[0m\u001b[1;33m=\u001b[0m\u001b[0malphanumeric_key\u001b[0m\u001b[1;33m)\u001b[0m\u001b[1;33m\u001b[0m\u001b[1;33m\u001b[0m\u001b[0m\n\u001b[0;32m      5\u001b[0m \u001b[1;33m\u001b[0m\u001b[0m\n\u001b[1;32m----> 6\u001b[1;33m \u001b[0mframe\u001b[0m \u001b[1;33m=\u001b[0m \u001b[0mio\u001b[0m\u001b[1;33m.\u001b[0m\u001b[0mimread\u001b[0m\u001b[1;33m(\u001b[0m\u001b[0mfilenames\u001b[0m\u001b[1;33m[\u001b[0m\u001b[1;36m0\u001b[0m\u001b[1;33m]\u001b[0m\u001b[1;33m)\u001b[0m\u001b[1;33m\u001b[0m\u001b[1;33m\u001b[0m\u001b[0m\n\u001b[0m\u001b[0;32m      7\u001b[0m \u001b[1;33m\u001b[0m\u001b[0m\n\u001b[0;32m      8\u001b[0m \u001b[0mchannels_to_acq\u001b[0m \u001b[1;33m=\u001b[0m \u001b[1;33m[\u001b[0m\u001b[1;34m'c0'\u001b[0m\u001b[1;33m,\u001b[0m\u001b[1;34m'c1'\u001b[0m\u001b[1;33m,\u001b[0m\u001b[1;34m'c2'\u001b[0m\u001b[1;33m]\u001b[0m\u001b[1;33m\u001b[0m\u001b[1;33m\u001b[0m\u001b[0m\n",
      "\u001b[1;31mIndexError\u001b[0m: list index out of range"
     ]
    }
   ],
   "source": [
    "from skimage import io\n",
    "folder = 'opto_check'\n",
    "file_name_pattern = str(fov).zfill(2)+\"_*.tiff\"\n",
    "filenames = sorted(glob(project_path + os.path.join(str(folder),file_name_pattern)), key=alphanumeric_key)\n",
    "\n",
    "frame = io.imread(filenames[0])\n",
    "\n",
    "channels_to_acq = ['c0','c1','c2']\n",
    "plt.figure(figsize = (10,5),dpi = 300)\n",
    "fig, axs = plt.subplots(2, frame.shape[2], figsize = (10,10),dpi = 300)\n",
    "fig.suptitle('Acquisition settings preview')\n",
    "for channel_nb, channel in enumerate(channels_to_acq):\n",
    "    axs[0][channel_nb].imshow(frame[:,:,channel_nb],cmap = 'gray_r')\n",
    "    axs[0][channel_nb] = channel\n",
    "for channel_nb, channel in enumerate(channels_to_acq):\n",
    "    flat = frame[:,:,channel_nb].flatten()\n",
    "    axs[1][channel_nb].hist(flat, bins=150, range=(0, 65535/100))\n",
    "plt.tight_layout()\n",
    "plt.show()"
   ]
  },
  {
   "cell_type": "code",
   "execution_count": null,
   "metadata": {},
   "outputs": [],
   "source": [
    "frame.shape"
   ]
  },
  {
   "cell_type": "code",
   "execution_count": null,
   "metadata": {},
   "outputs": [],
   "source": [
    "path = 'Z:\\\\lhinder\\\\data\\\\rtm_mm_data\\\\exp_26\\\\'\n",
    "fov = 0\n",
    "folder = 'stim'\n",
    "folder = 'light_mask'\n",
    "file_name_pattern = str(fov).zfill(2)+\"_*.tiff\"\n",
    "filenames = sorted(glob(path + os.path.join(str(folder),file_name_pattern)), key=alphanumeric_key)\n",
    "\n",
    "#mask = imread('Z:\\\\lhinder\\\\data\\\\rtm_mm_data\\\\exp_16\\\\raw\\\\100_01_0337.tiff')\n",
    "#plt.imshow(mask[0,:,:])"
   ]
  },
  {
   "cell_type": "code",
   "execution_count": null,
   "metadata": {},
   "outputs": [],
   "source": [
    "fov = 1\n",
    "stack_raw = tiff_to_lazy_da(project_path, \"raw\", fov)\n",
    "stack_mask = tiff_to_lazy_da(project_path, \"mask\", fov)\n",
    "stack_light_mask = tiff_to_lazy_da(project_path, \"light_mask\", fov)\n",
    "stack_stim = tiff_to_lazy_da(project_path, \"stim\", fov)"
   ]
  },
  {
   "cell_type": "code",
   "execution_count": 7,
   "metadata": {},
   "outputs": [
    {
     "data": {
      "text/plain": [
       "<Labels layer 'stack_mask' at 0x24ccfb78a90>"
      ]
     },
     "execution_count": 7,
     "metadata": {},
     "output_type": "execute_result"
    }
   ],
   "source": [
    "viewer = napari.Viewer()\n",
    "viewer.add_image(stack_raw, rgb=False)\n",
    "viewer.add_labels(stack_mask)\n",
    "# change dimension order to CYX\n",
    "#viewer.dims.order = (0,3,1,2)"
   ]
  },
  {
   "cell_type": "code",
   "execution_count": 8,
   "metadata": {},
   "outputs": [
    {
     "data": {
      "text/plain": [
       "<Labels layer 'stack_light_mask' at 0x24cdcfdacd0>"
      ]
     },
     "execution_count": 8,
     "metadata": {},
     "output_type": "execute_result"
    },
    {
     "name": "stdout",
     "output_type": "stream",
     "text": [
      "00_*.tiff\n",
      "01_*.tiff\n",
      "00_*.tiff\n"
     ]
    }
   ],
   "source": [
    "viewer = napari.Viewer()\n",
    "viewer.add_image(stack_stim, rgb=False)\n",
    "viewer.add_labels(stack_light_mask)"
   ]
  },
  {
   "cell_type": "code",
   "execution_count": 27,
   "metadata": {},
   "outputs": [
    {
     "data": {
      "text/plain": [
       "0"
      ]
     },
     "execution_count": 27,
     "metadata": {},
     "output_type": "execute_result"
    }
   ],
   "source": [
    "33%1"
   ]
  },
  {
   "cell_type": "code",
   "execution_count": 26,
   "metadata": {},
   "outputs": [
    {
     "ename": "NameError",
     "evalue": "name 'stack_stim_apo' is not defined",
     "output_type": "error",
     "traceback": [
      "\u001b[1;31m---------------------------------------------------------------------------\u001b[0m",
      "\u001b[1;31mNameError\u001b[0m                                 Traceback (most recent call last)",
      "\u001b[1;32m<ipython-input-26-050208c1c0da>\u001b[0m in \u001b[0;36m<module>\u001b[1;34m\u001b[0m\n\u001b[1;32m----> 1\u001b[1;33m \u001b[0mplt\u001b[0m\u001b[1;33m.\u001b[0m\u001b[0mimshow\u001b[0m\u001b[1;33m(\u001b[0m\u001b[0mstack_stim_apo\u001b[0m\u001b[1;33m[\u001b[0m\u001b[1;36m1\u001b[0m\u001b[1;33m,\u001b[0m\u001b[1;36m0\u001b[0m\u001b[1;33m,\u001b[0m\u001b[1;33m:\u001b[0m\u001b[1;33m,\u001b[0m\u001b[1;33m:\u001b[0m\u001b[1;33m]\u001b[0m\u001b[1;33m)\u001b[0m\u001b[1;33m\u001b[0m\u001b[1;33m\u001b[0m\u001b[0m\n\u001b[0m",
      "\u001b[1;31mNameError\u001b[0m: name 'stack_stim_apo' is not defined"
     ]
    }
   ],
   "source": [
    "plt.imshow(stack_stim_apo[1,0,:,:])"
   ]
  },
  {
   "cell_type": "code",
   "execution_count": null,
   "metadata": {},
   "outputs": [],
   "source": [
    "from skimage.io import imsave\n",
    "stack_raw = tiff_to_lazy_da(project_path, \"raw\", 11)\n",
    "stack_loaded = stack_raw.compute()\n",
    "imsave('Z:\\\\lhinder\\\\data\\\\rtm_mm_data\\\\exp_16\\\\fov_11.tiff',stack_loaded)"
   ]
  },
  {
   "cell_type": "code",
   "execution_count": 19,
   "metadata": {},
   "outputs": [
    {
     "data": {
      "text/html": [
       "<table>\n",
       "<tr>\n",
       "<td>\n",
       "<table>\n",
       "  <thead>\n",
       "    <tr><td> </td><th> Array </th><th> Chunk </th></tr>\n",
       "  </thead>\n",
       "  <tbody>\n",
       "    <tr><th> Bytes </th><td> 138.41 MB </td> <td> 4.19 MB </td></tr>\n",
       "    <tr><th> Shape </th><td> (33, 1, 1024, 1024) </td> <td> (1, 1, 1024, 1024) </td></tr>\n",
       "    <tr><th> Count </th><td> 132 Tasks </td><td> 33 Chunks </td></tr>\n",
       "    <tr><th> Type </th><td> int32 </td><td> numpy.ndarray </td></tr>\n",
       "  </tbody>\n",
       "</table>\n",
       "</td>\n",
       "<td>\n",
       "<svg width=\"386\" height=\"184\" style=\"stroke:rgb(0,0,0);stroke-width:1\" >\n",
       "\n",
       "  <!-- Horizontal lines -->\n",
       "  <line x1=\"0\" y1=\"0\" x2=\"31\" y2=\"0\" style=\"stroke-width:2\" />\n",
       "  <line x1=\"0\" y1=\"25\" x2=\"31\" y2=\"25\" style=\"stroke-width:2\" />\n",
       "\n",
       "  <!-- Vertical lines -->\n",
       "  <line x1=\"0\" y1=\"0\" x2=\"0\" y2=\"25\" style=\"stroke-width:2\" />\n",
       "  <line x1=\"0\" y1=\"0\" x2=\"0\" y2=\"25\" />\n",
       "  <line x1=\"1\" y1=\"0\" x2=\"1\" y2=\"25\" />\n",
       "  <line x1=\"2\" y1=\"0\" x2=\"2\" y2=\"25\" />\n",
       "  <line x1=\"3\" y1=\"0\" x2=\"3\" y2=\"25\" />\n",
       "  <line x1=\"4\" y1=\"0\" x2=\"4\" y2=\"25\" />\n",
       "  <line x1=\"5\" y1=\"0\" x2=\"5\" y2=\"25\" />\n",
       "  <line x1=\"6\" y1=\"0\" x2=\"6\" y2=\"25\" />\n",
       "  <line x1=\"7\" y1=\"0\" x2=\"7\" y2=\"25\" />\n",
       "  <line x1=\"8\" y1=\"0\" x2=\"8\" y2=\"25\" />\n",
       "  <line x1=\"9\" y1=\"0\" x2=\"9\" y2=\"25\" />\n",
       "  <line x1=\"10\" y1=\"0\" x2=\"10\" y2=\"25\" />\n",
       "  <line x1=\"11\" y1=\"0\" x2=\"11\" y2=\"25\" />\n",
       "  <line x1=\"12\" y1=\"0\" x2=\"12\" y2=\"25\" />\n",
       "  <line x1=\"13\" y1=\"0\" x2=\"13\" y2=\"25\" />\n",
       "  <line x1=\"14\" y1=\"0\" x2=\"14\" y2=\"25\" />\n",
       "  <line x1=\"15\" y1=\"0\" x2=\"15\" y2=\"25\" />\n",
       "  <line x1=\"16\" y1=\"0\" x2=\"16\" y2=\"25\" />\n",
       "  <line x1=\"17\" y1=\"0\" x2=\"17\" y2=\"25\" />\n",
       "  <line x1=\"18\" y1=\"0\" x2=\"18\" y2=\"25\" />\n",
       "  <line x1=\"19\" y1=\"0\" x2=\"19\" y2=\"25\" />\n",
       "  <line x1=\"20\" y1=\"0\" x2=\"20\" y2=\"25\" />\n",
       "  <line x1=\"21\" y1=\"0\" x2=\"21\" y2=\"25\" />\n",
       "  <line x1=\"22\" y1=\"0\" x2=\"22\" y2=\"25\" />\n",
       "  <line x1=\"23\" y1=\"0\" x2=\"23\" y2=\"25\" />\n",
       "  <line x1=\"24\" y1=\"0\" x2=\"24\" y2=\"25\" />\n",
       "  <line x1=\"25\" y1=\"0\" x2=\"25\" y2=\"25\" />\n",
       "  <line x1=\"26\" y1=\"0\" x2=\"26\" y2=\"25\" />\n",
       "  <line x1=\"26\" y1=\"0\" x2=\"26\" y2=\"25\" />\n",
       "  <line x1=\"27\" y1=\"0\" x2=\"27\" y2=\"25\" />\n",
       "  <line x1=\"28\" y1=\"0\" x2=\"28\" y2=\"25\" />\n",
       "  <line x1=\"29\" y1=\"0\" x2=\"29\" y2=\"25\" />\n",
       "  <line x1=\"31\" y1=\"0\" x2=\"31\" y2=\"25\" style=\"stroke-width:2\" />\n",
       "\n",
       "  <!-- Colored Rectangle -->\n",
       "  <polygon points=\"0.0,0.0 31.820469555962884,0.0 31.820469555962884,25.412616514582485 0.0,25.412616514582485\" style=\"fill:#8B4903A0;stroke-width:0\"/>\n",
       "\n",
       "  <!-- Text -->\n",
       "  <text x=\"15.910235\" y=\"45.412617\" font-size=\"1.0rem\" font-weight=\"100\" text-anchor=\"middle\" >33</text>\n",
       "  <text x=\"51.820470\" y=\"12.706308\" font-size=\"1.0rem\" font-weight=\"100\" text-anchor=\"middle\" transform=\"rotate(0,51.820470,12.706308)\">1</text>\n",
       "\n",
       "\n",
       "  <!-- Horizontal lines -->\n",
       "  <line x1=\"101\" y1=\"0\" x2=\"115\" y2=\"14\" style=\"stroke-width:2\" />\n",
       "  <line x1=\"101\" y1=\"120\" x2=\"115\" y2=\"134\" style=\"stroke-width:2\" />\n",
       "\n",
       "  <!-- Vertical lines -->\n",
       "  <line x1=\"101\" y1=\"0\" x2=\"101\" y2=\"120\" style=\"stroke-width:2\" />\n",
       "  <line x1=\"115\" y1=\"14\" x2=\"115\" y2=\"134\" style=\"stroke-width:2\" />\n",
       "\n",
       "  <!-- Colored Rectangle -->\n",
       "  <polygon points=\"101.0,0.0 115.9485979497544,14.948597949754403 115.9485979497544,134.9485979497544 101.0,120.0\" style=\"fill:#ECB172A0;stroke-width:0\"/>\n",
       "\n",
       "  <!-- Horizontal lines -->\n",
       "  <line x1=\"101\" y1=\"0\" x2=\"221\" y2=\"0\" style=\"stroke-width:2\" />\n",
       "  <line x1=\"115\" y1=\"14\" x2=\"235\" y2=\"14\" style=\"stroke-width:2\" />\n",
       "\n",
       "  <!-- Vertical lines -->\n",
       "  <line x1=\"101\" y1=\"0\" x2=\"115\" y2=\"14\" style=\"stroke-width:2\" />\n",
       "  <line x1=\"221\" y1=\"0\" x2=\"235\" y2=\"14\" style=\"stroke-width:2\" />\n",
       "\n",
       "  <!-- Colored Rectangle -->\n",
       "  <polygon points=\"101.0,0.0 221.0,0.0 235.9485979497544,14.948597949754403 115.9485979497544,14.948597949754403\" style=\"fill:#ECB172A0;stroke-width:0\"/>\n",
       "\n",
       "  <!-- Horizontal lines -->\n",
       "  <line x1=\"115\" y1=\"14\" x2=\"235\" y2=\"14\" style=\"stroke-width:2\" />\n",
       "  <line x1=\"115\" y1=\"134\" x2=\"235\" y2=\"134\" style=\"stroke-width:2\" />\n",
       "\n",
       "  <!-- Vertical lines -->\n",
       "  <line x1=\"115\" y1=\"14\" x2=\"115\" y2=\"134\" style=\"stroke-width:2\" />\n",
       "  <line x1=\"235\" y1=\"14\" x2=\"235\" y2=\"134\" style=\"stroke-width:2\" />\n",
       "\n",
       "  <!-- Colored Rectangle -->\n",
       "  <polygon points=\"115.9485979497544,14.948597949754403 235.9485979497544,14.948597949754403 235.9485979497544,134.9485979497544 115.9485979497544,134.9485979497544\" style=\"fill:#ECB172A0;stroke-width:0\"/>\n",
       "\n",
       "  <!-- Text -->\n",
       "  <text x=\"175.948598\" y=\"154.948598\" font-size=\"1.0rem\" font-weight=\"100\" text-anchor=\"middle\" >1024</text>\n",
       "  <text x=\"255.948598\" y=\"74.948598\" font-size=\"1.0rem\" font-weight=\"100\" text-anchor=\"middle\" transform=\"rotate(-90,255.948598,74.948598)\">1024</text>\n",
       "  <text x=\"98.474299\" y=\"147.474299\" font-size=\"1.0rem\" font-weight=\"100\" text-anchor=\"middle\" transform=\"rotate(45,98.474299,147.474299)\">1</text>\n",
       "</svg>\n",
       "</td>\n",
       "</tr>\n",
       "</table>"
      ],
      "text/plain": [
       "dask.array<astype, shape=(33, 1, 1024, 1024), dtype=int32, chunksize=(1, 1, 1024, 1024), chunktype=numpy.ndarray>"
      ]
     },
     "execution_count": 19,
     "metadata": {},
     "output_type": "execute_result"
    }
   ],
   "source": [
    "stack_light_mask"
   ]
  }
 ],
 "metadata": {
  "kernelspec": {
   "display_name": "Python 3",
   "language": "python",
   "name": "python3"
  },
  "language_info": {
   "codemirror_mode": {
    "name": "ipython",
    "version": 3
   },
   "file_extension": ".py",
   "mimetype": "text/x-python",
   "name": "python",
   "nbconvert_exporter": "python",
   "pygments_lexer": "ipython3",
   "version": "3.9.18"
  },
  "metadata": {
   "interpreter": {
    "hash": "dc65945df9e9d0d4879bf31aa8be1f9c9061cf2045ae1b52a8a89465a3599d02"
   }
  },
  "vscode": {
   "interpreter": {
    "hash": "9e5d7080663390bcdffbcbef7c92bc45f69ffc9cf62d437adac64b507687c77f"
   }
  }
 },
 "nbformat": 4,
 "nbformat_minor": 2
}
